{
 "cells": [
  {
   "cell_type": "code",
   "execution_count": 44,
   "metadata": {},
   "outputs": [],
   "source": [
    "import pandas as pd\n",
    "import re\n",
    "from sklearn.preprocessing import OneHotEncoder, LabelEncoder\n",
    "import tensorflow as tf\n",
    "from tensorflow.keras.models import Sequential\n",
    "from tensorflow.keras.layers import Dense"
   ]
  },
  {
   "cell_type": "code",
   "execution_count": 19,
   "metadata": {},
   "outputs": [],
   "source": [
    "\"\"\"\n",
    "Criação da lista para substituição nas equações\n",
    "\"\"\"\n",
    "lista = []\n",
    "c = 0\n",
    "for i in range(ord('A'), ord(\"Z\")+1):\n",
    "    lista.insert(c, chr(i))\n",
    "    c += 1\n",
    "    for j in range(ord('A'), ord('Z')+1):\n",
    "        lista.append(chr(i)+chr(j))\n",
    "\n",
    "\"\"\"\n",
    "Função para a simplificação das equações e passos\n",
    "\"\"\"\n",
    "def simplifica_equação(equ):\n",
    "    i = 0\n",
    "    for m in re.finditer(r\"(([\\d]{0,}x{1})|([\\d]{1,}))\", equ):\n",
    "        equ = equ.replace(m.group(0).replace(\"x\", \"\"), lista[i], 1)\n",
    "        i = i + 1\n",
    "    return equ"
   ]
  },
  {
   "cell_type": "code",
   "execution_count": 20,
   "metadata": {},
   "outputs": [],
   "source": [
    "df = pd.read_csv(\"data/Dados_DKT.csv\", sep=\";\", low_memory=False)"
   ]
  },
  {
   "cell_type": "code",
   "execution_count": 21,
   "metadata": {},
   "outputs": [
    {
     "data": {
      "text/html": "<div>\n<style scoped>\n    .dataframe tbody tr th:only-of-type {\n        vertical-align: middle;\n    }\n\n    .dataframe tbody tr th {\n        vertical-align: top;\n    }\n\n    .dataframe thead th {\n        text-align: right;\n    }\n</style>\n<table border=\"1\" class=\"dataframe\">\n  <thead>\n    <tr style=\"text-align: right;\">\n      <th></th>\n      <th>e-mail</th>\n      <th>exercício</th>\n      <th>passo</th>\n      <th>AD</th>\n      <th>SB</th>\n      <th>MT</th>\n      <th>DV</th>\n      <th>SP</th>\n      <th>PA</th>\n      <th>PM</th>\n      <th>...</th>\n      <th>MF</th>\n      <th>DF</th>\n      <th>OI</th>\n      <th>UT</th>\n      <th>RE</th>\n      <th>ER</th>\n      <th>DE</th>\n      <th>correct</th>\n      <th>message</th>\n      <th>feedback</th>\n    </tr>\n  </thead>\n  <tbody>\n    <tr>\n      <th>0</th>\n      <td>913</td>\n      <td>x+7=12</td>\n      <td>x=12-7</td>\n      <td>0</td>\n      <td>0</td>\n      <td>0</td>\n      <td>0</td>\n      <td>0</td>\n      <td>1</td>\n      <td>0</td>\n      <td>...</td>\n      <td>0</td>\n      <td>0</td>\n      <td>0</td>\n      <td>0</td>\n      <td>0</td>\n      <td>0</td>\n      <td>0</td>\n      <td>1</td>\n      <td>Parabéns! Sua resposta está correta.</td>\n      <td>0</td>\n    </tr>\n    <tr>\n      <th>1</th>\n      <td>913</td>\n      <td>x+7=12</td>\n      <td>x=5</td>\n      <td>0</td>\n      <td>1</td>\n      <td>0</td>\n      <td>0</td>\n      <td>0</td>\n      <td>0</td>\n      <td>0</td>\n      <td>...</td>\n      <td>0</td>\n      <td>0</td>\n      <td>0</td>\n      <td>0</td>\n      <td>0</td>\n      <td>0</td>\n      <td>0</td>\n      <td>1</td>\n      <td>Parabéns! Sua resposta está correta.</td>\n      <td>0</td>\n    </tr>\n    <tr>\n      <th>2</th>\n      <td>913</td>\n      <td>x+4=9</td>\n      <td>x=5</td>\n      <td>1</td>\n      <td>0</td>\n      <td>0</td>\n      <td>0</td>\n      <td>0</td>\n      <td>1</td>\n      <td>0</td>\n      <td>...</td>\n      <td>0</td>\n      <td>0</td>\n      <td>0</td>\n      <td>0</td>\n      <td>0</td>\n      <td>0</td>\n      <td>0</td>\n      <td>1</td>\n      <td>Parabéns! Sua resposta está correta.</td>\n      <td>0</td>\n    </tr>\n    <tr>\n      <th>3</th>\n      <td>913</td>\n      <td>x+3=15</td>\n      <td>x=12</td>\n      <td>1</td>\n      <td>0</td>\n      <td>0</td>\n      <td>0</td>\n      <td>0</td>\n      <td>1</td>\n      <td>0</td>\n      <td>...</td>\n      <td>0</td>\n      <td>0</td>\n      <td>0</td>\n      <td>0</td>\n      <td>0</td>\n      <td>0</td>\n      <td>0</td>\n      <td>1</td>\n      <td>Parabéns! Sua resposta está correta.</td>\n      <td>0</td>\n    </tr>\n    <tr>\n      <th>4</th>\n      <td>913</td>\n      <td>x+5=8</td>\n      <td>x=3</td>\n      <td>1</td>\n      <td>0</td>\n      <td>0</td>\n      <td>0</td>\n      <td>0</td>\n      <td>1</td>\n      <td>0</td>\n      <td>...</td>\n      <td>0</td>\n      <td>0</td>\n      <td>0</td>\n      <td>0</td>\n      <td>0</td>\n      <td>0</td>\n      <td>0</td>\n      <td>1</td>\n      <td>Parabéns! Sua resposta está correta.</td>\n      <td>0</td>\n    </tr>\n  </tbody>\n</table>\n<p>5 rows × 23 columns</p>\n</div>",
      "text/plain": "   e-mail exercício   passo  AD  SB  MT  DV  SP  PA  PM  ...  MF  DF  OI  UT  \\\n0     913    x+7=12  x=12-7   0   0   0   0   0   1   0  ...   0   0   0   0   \n1     913    x+7=12     x=5   0   1   0   0   0   0   0  ...   0   0   0   0   \n2     913     x+4=9     x=5   1   0   0   0   0   1   0  ...   0   0   0   0   \n3     913    x+3=15    x=12   1   0   0   0   0   1   0  ...   0   0   0   0   \n4     913     x+5=8     x=3   1   0   0   0   0   1   0  ...   0   0   0   0   \n\n   RE  ER  DE  correct                               message  feedback  \n0   0   0   0        1  Parabéns! Sua resposta está correta.         0  \n1   0   0   0        1  Parabéns! Sua resposta está correta.         0  \n2   0   0   0        1  Parabéns! Sua resposta está correta.         0  \n3   0   0   0        1  Parabéns! Sua resposta está correta.         0  \n4   0   0   0        1  Parabéns! Sua resposta está correta.         0  \n\n[5 rows x 23 columns]"
     },
     "execution_count": 21,
     "metadata": {},
     "output_type": "execute_result"
    }
   ],
   "source": [
    "df.head()"
   ]
  },
  {
   "cell_type": "code",
   "execution_count": 22,
   "metadata": {},
   "outputs": [
    {
     "data": {
      "text/plain": "e-mail        int64\nexercício    object\npasso        object\nAD            int64\nSB            int64\nMT            int64\nDV            int64\nSP            int64\nPA            int64\nPM            int64\nMM            int64\nDM            int64\nAF            int64\nMF            int64\nDF            int64\nOI            int64\nUT            int64\nRE            int64\nER            int64\nDE            int64\ncorrect       int64\nmessage      object\nfeedback     object\ndtype: object"
     },
     "execution_count": 22,
     "metadata": {},
     "output_type": "execute_result"
    }
   ],
   "source": [
    "df.dtypes"
   ]
  },
  {
   "cell_type": "code",
   "execution_count": 23,
   "metadata": {},
   "outputs": [
    {
     "data": {
      "text/plain": "x-8=-10                                  2325\n-x+5=9                                   2291\n18x=-60                                  2171\nx+7=12                                   2117\n-20x=-4                                  2085\n                                         ... \n(x+10)-(-x-10)=0                            1\nx-3*(4-x)=7x-2*(-3x-1)                      1\n(x+5)-(-x-8)=2x-(4x+8)                      1\n(8x)/(8)=(555)/(111)                        1\n(12x+12)-(24-24x)=(-36+36x)-(-48x+60)       1\nName: exercício, Length: 301, dtype: int64"
     },
     "execution_count": 23,
     "metadata": {},
     "output_type": "execute_result"
    }
   ],
   "source": [
    "df['exercício'].value_counts()"
   ]
  },
  {
   "cell_type": "code",
   "execution_count": 24,
   "metadata": {},
   "outputs": [],
   "source": [
    "df = df.drop('feedback', axis=1)\n",
    "df = df.drop('message', axis=1)"
   ]
  },
  {
   "cell_type": "code",
   "execution_count": 25,
   "metadata": {},
   "outputs": [],
   "source": [
    "df['exercício'] = df['exercício'].map(simplifica_equação)\n",
    "df['passo'] = df['passo'].map(simplifica_equação)"
   ]
  },
  {
   "cell_type": "code",
   "execution_count": 26,
   "metadata": {},
   "outputs": [],
   "source": [
    "previsores = df.iloc[:, 0:19].values\n",
    "correto = df.iloc[:, 20].values"
   ]
  },
  {
   "cell_type": "code",
   "execution_count": 33,
   "metadata": {},
   "outputs": [],
   "source": [
    "label_encoders = LabelEncoder()\n",
    "\n",
    "previsores[:,1] = label_encoders.fit_transform(previsores[:,1])\n",
    "previsores[:,2] = label_encoders.fit_transform(previsores[:,2])"
   ]
  },
  {
   "cell_type": "code",
   "execution_count": 38,
   "metadata": {},
   "outputs": [
    {
     "name": "stderr",
     "output_type": "stream",
     "text": "/Users/cleberfonseca/.pyenv/versions/dkt3.6.5/lib/python3.6/site-packages/sklearn/preprocessing/_encoders.py:415: FutureWarning: The handling of integer data will change in version 0.22. Currently, the categories are determined based on the range [0, max(values)], while in the future they will be determined based on the unique values.\nIf you want the future behaviour and silence this warning, you can specify \"categories='auto'\".\nIn case you used a LabelEncoder before this OneHotEncoder to convert the categories to integers, then you can now use the OneHotEncoder directly.\n  warnings.warn(msg, FutureWarning)\n/Users/cleberfonseca/.pyenv/versions/dkt3.6.5/lib/python3.6/site-packages/sklearn/preprocessing/_encoders.py:451: DeprecationWarning: The 'categorical_features' keyword is deprecated in version 0.20 and will be removed in 0.22. You can use the ColumnTransformer instead.\n  \"use the ColumnTransformer instead.\", DeprecationWarning)\n"
    }
   ],
   "source": [
    "onehot = OneHotEncoder(categorical_features=[1, 2])\n",
    "\n",
    "df = onehot.fit_transform(df).toarray()"
   ]
  },
  {
   "cell_type": "code",
   "execution_count": 43,
   "metadata": {},
   "outputs": [
    {
     "ename": "NameError",
     "evalue": "name 'Sequential' is not defined",
     "output_type": "error",
     "traceback": [
      "\u001b[0;31m---------------------------------------------------------------------------\u001b[0m",
      "\u001b[0;31mNameError\u001b[0m                                 Traceback (most recent call last)",
      "\u001b[0;32m<ipython-input-43-b6e669536f81>\u001b[0m in \u001b[0;36m<module>\u001b[0;34m\u001b[0m\n\u001b[0;32m----> 1\u001b[0;31m \u001b[0mregressor\u001b[0m \u001b[0;34m=\u001b[0m \u001b[0mSequential\u001b[0m\u001b[0;34m(\u001b[0m\u001b[0;34m)\u001b[0m\u001b[0;34m\u001b[0m\u001b[0m\n\u001b[0m\u001b[1;32m      2\u001b[0m \u001b[0mregressor\u001b[0m\u001b[0;34m.\u001b[0m\u001b[0madd\u001b[0m\u001b[0;34m(\u001b[0m\u001b[0mDense\u001b[0m\u001b[0;34m(\u001b[0m\u001b[0munits\u001b[0m\u001b[0;34m=\u001b[0m\u001b[0;36m2028\u001b[0m\u001b[0;34m,\u001b[0m \u001b[0mactivation\u001b[0m\u001b[0;34m=\u001b[0m\u001b[0;34m'relu'\u001b[0m\u001b[0;34m,\u001b[0m \u001b[0minput_dim\u001b[0m \u001b[0;34m=\u001b[0m \u001b[0;36m4056\u001b[0m\u001b[0;34m)\u001b[0m\u001b[0;34m)\u001b[0m\u001b[0;34m\u001b[0m\u001b[0m\n\u001b[1;32m      3\u001b[0m \u001b[0mregressor\u001b[0m\u001b[0;34m.\u001b[0m\u001b[0madd\u001b[0m\u001b[0;34m(\u001b[0m\u001b[0mDense\u001b[0m\u001b[0;34m(\u001b[0m\u001b[0munits\u001b[0m\u001b[0;34m=\u001b[0m\u001b[0;36m2028\u001b[0m\u001b[0;34m,\u001b[0m \u001b[0mactivation\u001b[0m\u001b[0;34m=\u001b[0m\u001b[0;34m'relu'\u001b[0m\u001b[0;34m)\u001b[0m\u001b[0;34m)\u001b[0m\u001b[0;34m\u001b[0m\u001b[0m\n\u001b[1;32m      4\u001b[0m \u001b[0mregressor\u001b[0m\u001b[0;34m.\u001b[0m\u001b[0madd\u001b[0m\u001b[0;34m(\u001b[0m\u001b[0mDense\u001b[0m\u001b[0;34m(\u001b[0m\u001b[0munits\u001b[0m\u001b[0;34m=\u001b[0m\u001b[0;36m1\u001b[0m\u001b[0;34m,\u001b[0m \u001b[0mactivation\u001b[0m\u001b[0;34m=\u001b[0m\u001b[0;34m'linear'\u001b[0m\u001b[0;34m)\u001b[0m\u001b[0;34m)\u001b[0m\u001b[0;34m\u001b[0m\u001b[0m\n\u001b[1;32m      5\u001b[0m \u001b[0mregressor\u001b[0m\u001b[0;34m.\u001b[0m\u001b[0mcompile\u001b[0m\u001b[0;34m(\u001b[0m\u001b[0mloss\u001b[0m\u001b[0;34m=\u001b[0m\u001b[0;34m'mean_absolute_error'\u001b[0m\u001b[0;34m,\u001b[0m \u001b[0moptimizer\u001b[0m\u001b[0;34m=\u001b[0m\u001b[0;34m\"adam\"\u001b[0m\u001b[0;34m,\u001b[0m \u001b[0mmetrics\u001b[0m\u001b[0;34m=\u001b[0m\u001b[0;34m[\u001b[0m\u001b[0;34m'mean_absolute_error'\u001b[0m\u001b[0;34m]\u001b[0m\u001b[0;34m)\u001b[0m\u001b[0;34m\u001b[0m\u001b[0m\n",
      "\u001b[0;31mNameError\u001b[0m: name 'Sequential' is not defined"
     ]
    }
   ],
   "source": []
  },
  {
   "cell_type": "code",
   "execution_count": null,
   "metadata": {},
   "outputs": [],
   "source": []
  }
 ],
 "metadata": {
  "file_extension": ".py",
  "kernelspec": {
   "display_name": "Python 3",
   "language": "python",
   "name": "python3"
  },
  "language_info": {
   "codemirror_mode": {
    "name": "ipython",
    "version": 3
   },
   "file_extension": ".py",
   "mimetype": "text/x-python",
   "name": "python",
   "nbconvert_exporter": "python",
   "pygments_lexer": "ipython3",
   "version": "3.6.5"
  },
  "mimetype": "text/x-python",
  "name": "python",
  "npconvert_exporter": "python",
  "pygments_lexer": "ipython3",
  "version": 3
 },
 "nbformat": 4,
 "nbformat_minor": 2
}